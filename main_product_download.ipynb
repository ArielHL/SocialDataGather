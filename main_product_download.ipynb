{
 "cells": [
  {
   "cell_type": "markdown",
   "metadata": {},
   "source": [
    "##### Loading Libraries"
   ]
  },
  {
   "cell_type": "code",
   "execution_count": 1,
   "metadata": {},
   "outputs": [],
   "source": [
    "\n",
    "# ******************************* Imports *************************************\n",
    "# import external libraries\n",
    "import pandas as pd\n",
    "import configparser\n",
    "from datetime import datetime\n",
    "from pathlib import Path \n",
    "import os\n",
    "import re\n",
    "\n",
    "import warnings\n",
    "warnings.filterwarnings('ignore')\n",
    "\n",
    "# import internal libraries\n",
    "from Modules.client import RestClient\n",
    "from Modules.handlers import *\n",
    "\n",
    "# ****************************** Credentials Config ***************************\n",
    "\n",
    "def read_config(filename=r'C:\\Users\\alimes001\\Desktop\\config.ini'):\n",
    "    config = configparser.ConfigParser()\n",
    "    config.read(filename)\n",
    "    return config['Credentials']\n",
    "\n",
    "credentials = read_config()\n",
    "username = credentials['username']\n",
    "password = credentials['password']\n",
    "\n",
    "# ****************************** Setting Paths *********************************\n",
    "\n",
    "file_folder=Path(os.getcwd()).joinpath('Data')\n",
    "database_folder=Path(os.getcwd()).joinpath('DataBase')\n",
    "file_folder.mkdir(parents=True, exist_ok=True)\n",
    "database_folder.mkdir(parents=True, exist_ok=True)\n",
    "database_file=database_folder.joinpath('task_dict.json')\n",
    "\n",
    "# ****************************** Instantiate client object *********************\n",
    "# Define the client object\n",
    "client = RestClient(username=username, \n",
    "                    password=password, \n",
    "                    folder_path=file_folder,\n",
    "                    database_path=database_file)\n"
   ]
  },
  {
   "cell_type": "code",
   "execution_count": 9,
   "metadata": {},
   "outputs": [],
   "source": [
    "companies = {\n",
    "    '585629514':'Zalando',\n",
    "    '457876088':'Asos',\n",
    "    '906698760':'farfetch',\n",
    "    '547951480':'Zara',\n",
    "    '834465911':'HM',\n",
    "    '475731082':'Best_Secret'}\n",
    "# app_ids=[id for id in companies.values()]"
   ]
  },
  {
   "cell_type": "code",
   "execution_count": 2,
   "metadata": {},
   "outputs": [
    {
     "name": "stdout",
     "output_type": "stream",
     "text": [
      "Task accepted\n",
      "Task id: 01110208-7198-0425-0000-0d6e6c2dd71b.\n"
     ]
    }
   ],
   "source": [
    "##### Create Google/Amazon post\n",
    "\n",
    "# for Amazon product download\n",
    "# https://docs.dataforseo.com/v3/merchant/amazon/products/task_post/?python\n",
    "\n",
    "# For Amazon reviews download\n",
    "# https://docs.dataforseo.com/v3/merchant/amazon/reviews/task_post/?python\n",
    "\n",
    "# for Google product download\n",
    "# https://docs.dataforseo.com/v3/merchant/google/products/task_post/?python\n",
    "\n",
    "# reviews  >> value to search is a list with asin (list if is multiple_task is True)\n",
    "# products >> value to search is a list of keywords (list if is multiple_task is True)\n",
    "\n",
    "create_post(client=client,\n",
    "            api_type='app_data',\n",
    "            merchant='apple',\n",
    "            task_type=\"app_reviews\", \n",
    "            value_to_search='585629514', \n",
    "            depth=500, \n",
    "            multiple_task=False)"
   ]
  },
  {
   "cell_type": "code",
   "execution_count": 3,
   "metadata": {},
   "outputs": [
    {
     "name": "stdout",
     "output_type": "stream",
     "text": [
      "You have 7 tasks in progress\n",
      "Please wait...\n",
      "All tasks are downloaded\n"
     ]
    }
   ],
   "source": [
    "# check the status of the task and download the data\n",
    "client.task_monitor(\n",
    "        api_type='app_data',\n",
    "        merchant='apple',\n",
    "        task_type='app_reviews',\n",
    "        time_sec=60*5)"
   ]
  },
  {
   "cell_type": "code",
   "execution_count": 10,
   "metadata": {},
   "outputs": [],
   "source": [
    "# 1. read the folder Task-ID\n",
    "full_df=pd.DataFrame()\n",
    "task_id_folder = client.folder_path.joinpath('Task-Get','Fake')\n",
    "for file in task_id_folder.iterdir():\n",
    "    \n",
    "    if 'apple_task' in str(file):\n",
    "        pattern = r'app_reviews_(.*?)\\.json'\n",
    "        match = re.search(pattern, str(file))\n",
    "        df=from_json_to_df(path=file,is_json=True)\n",
    "        df['app_id']=match.group(1)\n",
    "        full_df=pd.concat([full_df,df],axis=0)\n",
    "\n",
    "# reorder the columns\n",
    "columns=full_df.columns.tolist()\n",
    "columns=[columns[-1]]+columns[:-1]\n",
    "full_df=full_df[columns]\n"
   ]
  },
  {
   "cell_type": "code",
   "execution_count": 11,
   "metadata": {},
   "outputs": [],
   "source": [
    "full_df['company']=full_df['app_id'].map(companies)"
   ]
  },
  {
   "cell_type": "code",
   "execution_count": 14,
   "metadata": {},
   "outputs": [],
   "source": [
    "full_df.to_excel('./Results/AppStore_v2.xlsx',index=False)"
   ]
  },
  {
   "cell_type": "code",
   "execution_count": 6,
   "metadata": {},
   "outputs": [],
   "source": [
    "full_df.to_excel('./Results/app_store.xlsx', index=False)"
   ]
  }
 ],
 "metadata": {
  "kernelspec": {
   "display_name": "PY311",
   "language": "python",
   "name": "python3"
  },
  "language_info": {
   "codemirror_mode": {
    "name": "ipython",
    "version": 3
   },
   "file_extension": ".py",
   "mimetype": "text/x-python",
   "name": "python",
   "nbconvert_exporter": "python",
   "pygments_lexer": "ipython3",
   "version": "3.11.4"
  },
  "orig_nbformat": 4
 },
 "nbformat": 4,
 "nbformat_minor": 2
}
