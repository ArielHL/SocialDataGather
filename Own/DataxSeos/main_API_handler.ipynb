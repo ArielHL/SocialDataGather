{
 "cells": [
  {
   "cell_type": "code",
   "execution_count": 3,
   "metadata": {},
   "outputs": [],
   "source": [
    "# import external libraries\n",
    "import os\n",
    "\n",
    "# import internal libraries\n",
    "from Modules.client import RestClient\n",
    "from Modules.handlers import *\n",
    "\n",
    "DFS_USER=os.environ.get('DFS_USER')\n",
    "DFS_PASSWORD=os.environ.get('DFS_PASS')\n"
   ]
  },
  {
   "cell_type": "code",
   "execution_count": 4,
   "metadata": {},
   "outputs": [],
   "source": [
    "# Define the client object\n",
    "client = RestClient(username=DFS_USER, \n",
    "                    password=DFS_PASSWORD,)\n",
    "\n",
    "product_post_data = dict()\n",
    "\n",
    "product_post_data[len(product_post_data)] = dict(\n",
    "    location_name=\"Germany\",\n",
    "    language_name=\"English (United States)\",\n",
    "    # depth = 700,\n",
    "    keyword=\"jar candle\"    \n",
    ")\n",
    "\n",
    "asin_post_data = dict()\n",
    "\n",
    "asin_post_data[len(asin_post_data)] = dict(\n",
    "    location_name=\"Germany\",\n",
    "    language_name=\"English (United States)\",\n",
    "    # depth = 200,\n",
    "    asin=\"B01MZ6YLKL\"\n",
    "    \n",
    ")\n"
   ]
  },
  {
   "cell_type": "markdown",
   "metadata": {},
   "source": [
    "#### Getting Product data"
   ]
  },
  {
   "cell_type": "code",
   "execution_count": null,
   "metadata": {},
   "outputs": [],
   "source": [
    "# create a task to get asin data from keyword\n",
    "task_id=client.create_task(post_data=product_post_data,\n",
    "                           task_type='products')\n",
    "\n",
    "\n",
    "\n",
    "df=checking_task_list(task_id=task_id,\n",
    "                      client=client,\n",
    "                      task_type='products')\n",
    "\n",
    "\n",
    "\n",
    "df.to_excel('./Results/amazon_result_jar_candle.xlsx',index=False)"
   ]
  },
  {
   "cell_type": "markdown",
   "metadata": {},
   "source": [
    "##### Getting ASIN data"
   ]
  },
  {
   "cell_type": "code",
   "execution_count": null,
   "metadata": {},
   "outputs": [],
   "source": [
    "# create a task to get rewiews data from keyword\n",
    "task_id=client.create_task(post_data=asin_post_data,\n",
    "                           task_type='asin')\n",
    "\n",
    "\n",
    "\n",
    "\n",
    "result=checking_task_list(task_id=task_id,\n",
    "                      client=client,\n",
    "                      task_type='asin')\n",
    "\n",
    "result.to_excel('./Results/amazon_result_asin.xlsx',index=False)"
   ]
  },
  {
   "cell_type": "markdown",
   "metadata": {},
   "source": [
    "#### Getting Review data"
   ]
  },
  {
   "cell_type": "code",
   "execution_count": 3,
   "metadata": {},
   "outputs": [
    {
     "name": "stdout",
     "output_type": "stream",
     "text": [
      "Task accepted\n",
      "Your task id is: 10010536-6753-0415-0000-355a16079745.\n",
      "checking_task_list\n",
      "Task not ready yet\n"
     ]
    },
    {
     "name": "stderr",
     "output_type": "stream",
     "text": [
      "Time Left: 100%|██████████| 45/45 [00:45<00:00,  1.00s/it]\n"
     ]
    },
    {
     "name": "stdout",
     "output_type": "stream",
     "text": [
      "checking_task_list\n",
      "Task not ready yet\n"
     ]
    },
    {
     "name": "stderr",
     "output_type": "stream",
     "text": [
      "Time Left: 100%|██████████| 45/45 [00:45<00:00,  1.00s/it]\n"
     ]
    },
    {
     "name": "stdout",
     "output_type": "stream",
     "text": [
      "checking_task_list\n",
      "Task ready\n",
      "\n",
      "getting task data\n",
      "\n",
      "converting to dataframe\n"
     ]
    }
   ],
   "source": [
    "# create a task to get rewiews data from keyword\n",
    "task_id=client.create_task(post_data=asin_post_data,\n",
    "                           task_type='reviews')\n",
    "\n",
    "\n",
    "result=checking_task_list(task_id=task_id,\n",
    "                      client=client,\n",
    "                      task_type='reviews')\n",
    "\n",
    "\n",
    "result.to_excel('./Results/amazon_result_reviews.xlsx',index=False)"
   ]
  }
 ],
 "metadata": {
  "kernelspec": {
   "display_name": "PY311",
   "language": "python",
   "name": "python3"
  },
  "language_info": {
   "codemirror_mode": {
    "name": "ipython",
    "version": 3
   },
   "file_extension": ".py",
   "mimetype": "text/x-python",
   "name": "python",
   "nbconvert_exporter": "python",
   "pygments_lexer": "ipython3",
   "version": "3.11.4"
  },
  "orig_nbformat": 4
 },
 "nbformat": 4,
 "nbformat_minor": 2
}
