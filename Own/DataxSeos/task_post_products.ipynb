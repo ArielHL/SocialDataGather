{
 "cells": [
  {
   "cell_type": "code",
   "execution_count": 2,
   "metadata": {},
   "outputs": [
    {
     "name": "stdout",
     "output_type": "stream",
     "text": [
      "{'version': '0.1.20230825', 'status_code': 20000, 'status_message': 'Ok.', 'time': '0.1451 sec.', 'cost': 0.0015, 'tasks_count': 1, 'tasks_error': 0, 'tasks': [{'id': '09281726-6489-0192-0000-638e5a34c042', 'status_code': 20100, 'status_message': 'Task Created.', 'time': '0.0040 sec.', 'cost': 0.0015, 'result_count': 0, 'path': ['v3', 'merchant', 'amazon', 'asin', 'task_post'], 'data': {'api': 'merchant', 'function': 'asin', 'se': 'amazon', 'location_name': 'Germany', 'language_name': 'English (United States)', 'asin': ['B097MHDD62', 'B097MJYH8N', 'B097MJ523S'], 'se_type': 'shopping', 'device': 'desktop', 'os': 'windows'}, 'result': None}]}\n"
     ]
    },
    {
     "ename": "KeyError",
     "evalue": "'keyword'",
     "output_type": "error",
     "traceback": [
      "\u001b[1;31m---------------------------------------------------------------------------\u001b[0m",
      "\u001b[1;31mKeyError\u001b[0m                                  Traceback (most recent call last)",
      "\u001b[1;32mc:\\Users\\alimes001\\Documents\\DAT EU\\REPOS\\DA-EU\\DA-Codes repository\\src\\Dev\\Amazon Product Portfolio\\API\\DataxSeos\\task_post.ipynb Cell 1\u001b[0m line \u001b[0;36m2\n\u001b[0;32m     <a href='vscode-notebook-cell:/c%3A/Users/alimes001/Documents/DAT%20EU/REPOS/DA-EU/DA-Codes%20repository/src/Dev/Amazon%20Product%20Portfolio/API/DataxSeos/task_post.ipynb#W0sZmlsZQ%3D%3D?line=22'>23</a>\u001b[0m     \u001b[39mprint\u001b[39m(\u001b[39m\"\u001b[39m\u001b[39merror. Code: \u001b[39m\u001b[39m%d\u001b[39;00m\u001b[39m Message: \u001b[39m\u001b[39m%s\u001b[39;00m\u001b[39m\"\u001b[39m \u001b[39m%\u001b[39m (response[\u001b[39m\"\u001b[39m\u001b[39mstatus_code\u001b[39m\u001b[39m\"\u001b[39m], response[\u001b[39m\"\u001b[39m\u001b[39mstatus_message\u001b[39m\u001b[39m\"\u001b[39m]))\n\u001b[0;32m     <a href='vscode-notebook-cell:/c%3A/Users/alimes001/Documents/DAT%20EU/REPOS/DA-EU/DA-Codes%20repository/src/Dev/Amazon%20Product%20Portfolio/API/DataxSeos/task_post.ipynb#W0sZmlsZQ%3D%3D?line=24'>25</a>\u001b[0m \u001b[39m# Getting Keyword from response\u001b[39;00m\n\u001b[1;32m---> <a href='vscode-notebook-cell:/c%3A/Users/alimes001/Documents/DAT%20EU/REPOS/DA-EU/DA-Codes%20repository/src/Dev/Amazon%20Product%20Portfolio/API/DataxSeos/task_post.ipynb#W0sZmlsZQ%3D%3D?line=25'>26</a>\u001b[0m keywords\u001b[39m=\u001b[39mresponse[\u001b[39m'\u001b[39m\u001b[39mtasks\u001b[39m\u001b[39m'\u001b[39m][\u001b[39m0\u001b[39m][\u001b[39m'\u001b[39m\u001b[39mdata\u001b[39m\u001b[39m'\u001b[39m][\u001b[39m'\u001b[39m\u001b[39mkeyword\u001b[39m\u001b[39m'\u001b[39m]\n",
      "\u001b[1;31mKeyError\u001b[0m: 'keyword'"
     ]
    }
   ],
   "source": [
    "import json\n",
    "from client import RestClient\n",
    "# You can download this file from here https://cdn.dataforseo.com/v3/examples/python/python_Client.zip\n",
    "client = RestClient(\"ariel.hernan.limes@pwc.com\", \"be0a9375b921d1dd\")\n",
    "\n",
    "\n",
    "post_data = dict()\n",
    "# simple way to set a task\n",
    "post_data[len(post_data)] = dict(\n",
    "    location_name=\"Germany\",\n",
    "    language_name=\"English (United States)\",\n",
    "    keywords=[\"iphone 11\", \"iphone 12\"]\n",
    ")\n",
    "\n",
    "\n",
    "# POST /v3/merchant/amazon/products/task_post\n",
    "response = client.post(\"/v3/merchant/amazon/products/task_post\", post_data)\n",
    "# you can find the full list of the response codes here https://docs.dataforseo.com/v3/appendix/errors\n",
    "if response[\"status_code\"] == 20000:\n",
    "    print(response)\n",
    "    # do something with result\n",
    "else:\n",
    "    print(\"error. Code: %d Message: %s\" % (response[\"status_code\"], response[\"status_message\"]))\n",
    "\n",
    "# Getting Keyword from response\n",
    "keywords=response['tasks'][0]['data']['keyword']\n"
   ]
  },
  {
   "cell_type": "code",
   "execution_count": 13,
   "metadata": {},
   "outputs": [],
   "source": [
    "path=f'./Task-Post/task_post_{keywords}.json'\n",
    "with open(f'task_post_{keywords}.json', 'w') as outfile:\n",
    "    json.dump(response, outfile)"
   ]
  },
  {
   "cell_type": "code",
   "execution_count": 9,
   "metadata": {},
   "outputs": [
    {
     "data": {
      "text/plain": [
       "'09281507-6489-0209-0000-5330592d8f25'"
      ]
     },
     "execution_count": 9,
     "metadata": {},
     "output_type": "execute_result"
    }
   ],
   "source": [
    "task_id=response['tasks'][0]['id']\n",
    "\n"
   ]
  }
 ],
 "metadata": {
  "kernelspec": {
   "display_name": "PY311",
   "language": "python",
   "name": "python3"
  },
  "language_info": {
   "codemirror_mode": {
    "name": "ipython",
    "version": 3
   },
   "file_extension": ".py",
   "mimetype": "text/x-python",
   "name": "python",
   "nbconvert_exporter": "python",
   "pygments_lexer": "ipython3",
   "version": "3.11.4"
  },
  "orig_nbformat": 4
 },
 "nbformat": 4,
 "nbformat_minor": 2
}
