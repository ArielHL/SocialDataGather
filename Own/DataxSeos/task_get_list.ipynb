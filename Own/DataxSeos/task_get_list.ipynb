{
 "cells": [
  {
   "cell_type": "markdown",
   "metadata": {},
   "source": [
    "#### Getting back a list of task completed"
   ]
  },
  {
   "cell_type": "code",
   "execution_count": 16,
   "metadata": {},
   "outputs": [],
   "source": [
    "from client import RestClient\n",
    "import json\n",
    "\n",
    "# chose what function you want to get ASIN, Product, Review, etc\n",
    "function ='asin'\n",
    "\n",
    "# You can download this file from here https://cdn.dataforseo.com/v3/examples/python/python_Client.zip\n",
    "client = RestClient(\"ariel.hernan.limes@pwc.com\", \"be0a9375b921d1dd\")\n",
    "# using this method you can get a list of completed tasks\n",
    "# GET /v3/merchant/amazon/products/tasks_ready\n",
    "response = client.get(f\"/v3/merchant/amazon/{function}/tasks_ready\")\n",
    "# you can find the full list of the response codes here https://docs.dataforseo.com/v3/appendix/errors\n",
    "if response[\"status_code\"] == 20000:\n",
    "    with open(f'./Task-Get/task_ready_list_{function}.json', 'w') as outfile:\n",
    "        json.dump(response, outfile, indent=4)\n",
    "    \n",
    "    # do something with result\n",
    "else:\n",
    "    print(\"error. Code: %d Message: %s\" % (response[\"status_code\"], response[\"status_message\"]))"
   ]
  },
  {
   "cell_type": "code",
   "execution_count": 17,
   "metadata": {},
   "outputs": [
    {
     "name": "stdout",
     "output_type": "stream",
     "text": [
      "09281726-6489-0192-0000-638e5a34c042\n",
      "09281817-6489-0192-0000-b9434eb1f514\n"
     ]
    }
   ],
   "source": [
    "task_ready_ids=response['tasks'][0]['result']\n",
    "for task in task_ready_ids:\n",
    "    print(task['id'])"
   ]
  }
 ],
 "metadata": {
  "kernelspec": {
   "display_name": "PY311",
   "language": "python",
   "name": "python3"
  },
  "language_info": {
   "codemirror_mode": {
    "name": "ipython",
    "version": 3
   },
   "file_extension": ".py",
   "mimetype": "text/x-python",
   "name": "python",
   "nbconvert_exporter": "python",
   "pygments_lexer": "ipython3",
   "version": "3.11.4"
  },
  "orig_nbformat": 4
 },
 "nbformat": 4,
 "nbformat_minor": 2
}
