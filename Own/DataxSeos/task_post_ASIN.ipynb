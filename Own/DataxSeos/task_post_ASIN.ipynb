{
 "cells": [
  {
   "cell_type": "code",
   "execution_count": 9,
   "metadata": {},
   "outputs": [
    {
     "name": "stdout",
     "output_type": "stream",
     "text": [
      "error. Code: 40400 Message: Not Found.\n"
     ]
    }
   ],
   "source": [
    "import json\n",
    "from client import RestClient\n",
    "# You can download this file from here https://cdn.dataforseo.com/v3/examples/python/python_Client.zip\n",
    "client = RestClient(\"ariel.hernan.limes@pwc.com\", \"be0a9375b921d1dd\")\n",
    "\n",
    "function='asin'\n",
    "\n",
    "post_data = dict()\n",
    "# simple way to set a task\n",
    "post_data[len(post_data)] = dict(\n",
    "    location_name=\"Germany\",\n",
    "    language_name=\"English (United States)\",\n",
    "    asin=\"B077SF2TN5\"\n",
    ")\n",
    "\n",
    "\n",
    "# POST /v3/merchant/amazon/products/task_post\n",
    "response = client.post(\"/v3/merchant/amazon/{function}/task_post\", post_data)\n",
    "# you can find the full list of the response codes here https://docs.dataforseo.com/v3/appendix/errors\n",
    "if response[\"status_code\"] == 20000:\n",
    "    print(response)\n",
    "    # do something with result\n",
    "else:\n",
    "    print(\"error. Code: %d Message: %s\" % (response[\"status_code\"], response[\"status_message\"]))\n",
    "\n",
    "\n"
   ]
  },
  {
   "cell_type": "code",
   "execution_count": 3,
   "metadata": {},
   "outputs": [],
   "source": [
    "path='./Task-Post/task_post_ASIN.json'\n",
    "with open(path, 'w') as outfile:\n",
    "    json.dump(response, outfile)"
   ]
  },
  {
   "cell_type": "code",
   "execution_count": 5,
   "metadata": {},
   "outputs": [
    {
     "data": {
      "text/plain": [
       "'09281729-6489-0192-0000-30824b64417f'"
      ]
     },
     "execution_count": 5,
     "metadata": {},
     "output_type": "execute_result"
    }
   ],
   "source": [
    "task_id=response['tasks'][0]['id']\n",
    "task_id\n"
   ]
  }
 ],
 "metadata": {
  "kernelspec": {
   "display_name": "PY311",
   "language": "python",
   "name": "python3"
  },
  "language_info": {
   "codemirror_mode": {
    "name": "ipython",
    "version": 3
   },
   "file_extension": ".py",
   "mimetype": "text/x-python",
   "name": "python",
   "nbconvert_exporter": "python",
   "pygments_lexer": "ipython3",
   "version": "3.11.4"
  },
  "orig_nbformat": 4
 },
 "nbformat": 4,
 "nbformat_minor": 2
}
