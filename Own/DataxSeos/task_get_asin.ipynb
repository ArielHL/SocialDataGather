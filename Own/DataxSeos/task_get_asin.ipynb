{
 "cells": [
  {
   "cell_type": "code",
   "execution_count": null,
   "metadata": {},
   "outputs": [],
   "source": [
    "from client import RestClient\n",
    "# You can download this file from here https://cdn.dataforseo.com/v3/examples/python/python_Client.zip\n",
    "client = RestClient(\"ariel.hernan.limes@pwc.com\", \"be0a9375b921d1dd\")\n",
    "# 1 - using this method you can get a list of completed tasks\n",
    "# GET /v3/merchant/amazon/asin/tasks_ready\n",
    "response = client.get(\"/v3/merchant/amazon/asin/tasks_ready\")\n",
    "# you can find the full list of the response codes here https://docs.dataforseo.com/v3/appendix/errors\n",
    "if response['status_code'] == 20000:\n",
    "    results = []\n",
    "    for task in response['tasks']:\n",
    "        if (task['result'] and (len(task['result']) > 0)):\n",
    "            for resultTaskInfo in task['result']:\n",
    "                # 2 - using this method you can get results of each completed task\n",
    "\t\t\t\t# GET /v3/merchant/amazon/asin/task_get/advanced/$id\n",
    "                if(resultTaskInfo['endpoint_advanced']):\n",
    "                    results.append(client.get(resultTaskInfo['endpoint_advanced']))\n",
    "                '''\n",
    "                # 3 - another way to get the task results by id\n",
    "                # GET /v3/merchant/amazon/asin/task_get/advanced/$id              \n",
    "                if(resultTaskInfo['id']):\n",
    "                    results.append(client.get(\"/v3/merchant/amazon/asin/task_get/advanced/\" + resultTaskInfo['id']))\n",
    "                '''\n",
    "    print(results)\n",
    "    # do something with result\n",
    "else:\n",
    "    print(\"error. Code: %d Message: %s\" % (response[\"status_code\"], response[\"status_message\"])) "
   ]
  }
 ],
 "metadata": {
  "language_info": {
   "name": "python"
  },
  "orig_nbformat": 4
 },
 "nbformat": 4,
 "nbformat_minor": 2
}
