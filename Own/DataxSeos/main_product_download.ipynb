{
 "cells": [
  {
   "cell_type": "code",
   "execution_count": 4,
   "metadata": {},
   "outputs": [
    {
     "name": "stdout",
     "output_type": "stream",
     "text": [
      "Task accepted\n",
      "Task id: 09291622-6489-0209-0000-cdcf70df23c4.\n"
     ]
    }
   ],
   "source": [
    "# import internal libraries\n",
    "from Modules.client import RestClient\n",
    "from Modules.handlers import *\n",
    "\n",
    "# Define the client object\n",
    "client = RestClient(username=\"ariel.hernan.limes@pwc.com\", \n",
    "                    password=\"be0a9375b921d1dd\")\n",
    "\n",
    "product_post_data = dict()\n",
    "\n",
    "product_post_data[len(product_post_data)] = dict(\n",
    "    location_name=\"Germany\",\n",
    "    language_name=\"English (United States)\",\n",
    "    depth = 700,\n",
    "    keyword=\"jar candle\"\n",
    ")\n",
    "\n",
    "asin_post_data = dict()\n",
    "\n",
    "asin_post_data[len(asin_post_data)] = dict(\n",
    "    location_name=\"Germany\",\n",
    "    language_name=\"English (United States)\",\n",
    "    asin=\"B0BGWQBC87\"\n",
    ")\n",
    "\n",
    "\n",
    "# create a task\n",
    "task_id=client.create_task(post_data=product_post_data,\n",
    "                           task_type='products')"
   ]
  },
  {
   "cell_type": "code",
   "execution_count": 5,
   "metadata": {},
   "outputs": [
    {
     "name": "stdout",
     "output_type": "stream",
     "text": [
      "checking_task_list\n",
      "Task not ready yet\n"
     ]
    },
    {
     "name": "stderr",
     "output_type": "stream",
     "text": [
      "Progress: 100%|██████████| 30/30 [00:30<00:00,  1.00s/it]\n"
     ]
    },
    {
     "name": "stdout",
     "output_type": "stream",
     "text": [
      "checking_task_list\n",
      "Task not ready yet\n"
     ]
    },
    {
     "name": "stderr",
     "output_type": "stream",
     "text": [
      "Progress: 100%|██████████| 30/30 [00:30<00:00,  1.00s/it]\n"
     ]
    },
    {
     "name": "stdout",
     "output_type": "stream",
     "text": [
      "checking_task_list\n",
      "Task ready\n",
      "getting task data\n",
      "converting to dataframe\n"
     ]
    }
   ],
   "source": [
    "df=checking_task_list(task_id=task_id,\n",
    "                      client=client,\n",
    "                      task_type='products')"
   ]
  },
  {
   "cell_type": "code",
   "execution_count": null,
   "metadata": {},
   "outputs": [],
   "source": [
    "df.to_excel('./Results/amazon_result_jar_candle.xlsx',index=False)"
   ]
  }
 ],
 "metadata": {
  "kernelspec": {
   "display_name": "PY311",
   "language": "python",
   "name": "python3"
  },
  "language_info": {
   "codemirror_mode": {
    "name": "ipython",
    "version": 3
   },
   "file_extension": ".py",
   "mimetype": "text/x-python",
   "name": "python",
   "nbconvert_exporter": "python",
   "pygments_lexer": "ipython3",
   "version": "3.11.4"
  },
  "orig_nbformat": 4
 },
 "nbformat": 4,
 "nbformat_minor": 2
}
